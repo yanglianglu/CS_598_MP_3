{
 "cells": [
  {
   "cell_type": "code",
   "execution_count": 111,
   "metadata": {
    "collapsed": true
   },
   "outputs": [],
   "source": [
    "import pandas as pd\n",
    "import numpy as np\n",
    "from sklearn.decomposition import PCA\n",
    "from sklearn.model_selection import train_test_split\n",
    "import plotly as plt\n",
    "import numpy as np\n",
    "np.random.seed(6615)"
   ]
  },
  {
   "cell_type": "markdown",
   "metadata": {},
   "source": [
    "## Data\n",
    "\n",
    "Based on this dataset, we have formed `coding3_dataH.csv`, which is structured as follows:\n",
    "\n",
    "It contains 506 rows, corresponding to n=506\n",
    "\n",
    "- There are 241 columns in total. The first column represents Y\n",
    "- The subsequent 240 columns relate to the NCS basis functions for each of the 13 X variables. The number of knots are individually determined for each feature."
   ]
  },
  {
   "cell_type": "code",
   "execution_count": 112,
   "metadata": {},
   "outputs": [
    {
     "name": "stdout",
     "output_type": "stream",
     "text": [
      "(505, 241)\n"
     ]
    }
   ],
   "source": [
    "data = pd.read_csv(\"Coding3_dataH.csv\", delimiter=\",\", header=0)\n",
    "print(data.shape)"
   ]
  },
  {
   "cell_type": "markdown",
   "metadata": {},
   "source": [
    "## Task 1: Ridgeless Function"
   ]
  },
  {
   "cell_type": "code",
   "execution_count": 113,
   "metadata": {},
   "outputs": [
    {
     "data": {
      "text/plain": [
       "(8.936072419454163, 0.11976737028598734)"
      ]
     },
     "execution_count": 113,
     "metadata": {},
     "output_type": "execute_result"
    }
   ],
   "source": [
    "# accepts training and test datasets and returns the training and test errors of the ridgeless estimator. \n",
    "# For both datasets, the initial column represents the response vector Y\n",
    "def ridgeless_regression(train, test):\n",
    "    # Extract the response vector from the training and test datasets\n",
    "    y_train = train.iloc[:,0]\n",
    "    y_test = test.iloc[:,0]\n",
    "    \n",
    "    # Extract the feature matrix from the training and test datasets\n",
    "    X_train = train.iloc[:,1:]\n",
    "    X_test = test.iloc[:,1:]\n",
    "    \n",
    "    # center the design matrix\n",
    "    X_train_center = X_train - X_train.mean()\n",
    "\n",
    "    # use PCA to reduce the dimensionality of the feature matrix\n",
    "    pca = PCA(n_components=None)\n",
    "    X_train_pca = pca.fit_transform(X_train_center)\n",
    "\n",
    "    # For computation stability, you need to exclude directions with extremely small eigenvalues (in PCA), eps = 1e-10\n",
    "    keep = np.where(pca.explained_variance_ > 1e-10)[0]\n",
    "    X_train_pca = X_train_pca[:,keep]\n",
    "\n",
    "    # Calculate the beta coefficients and beta0 intercept\n",
    "    beta = np.linalg.inv(X_train_pca.T.dot(X_train_pca)).dot(X_train_pca.T).dot(y_train)\n",
    "    beta0 = y_train.mean()\n",
    "\n",
    "    # calculate y_hat and error for train data\n",
    "    y_hat_train = X_train_pca.dot(beta)\n",
    "    train_error = np.sum((y_train - y_hat_train)**2) / len(y_train)\n",
    "\n",
    "    # PCA transform the test data\n",
    "    X_test_pca = pca.transform(X_test - np.mean(X_train))[:, keep]\n",
    "    \n",
    "    # calculate y_hat and error for test data\n",
    "    y_hat_test = X_test_pca.dot(beta) + beta0\n",
    "    test_error = np.sum((y_test - y_hat_test)**2) / len(y_test)\n",
    "    \n",
    "    return train_error, test_error\n",
    "\n",
    "#split data into train and test\n",
    "train, test = train_test_split(data, test_size=0.75)\n",
    "ridgeless_regression(train, test)"
   ]
  },
  {
   "cell_type": "markdown",
   "metadata": {},
   "source": [
    "## Task 2: Simulation study\n",
    "\n",
    "Execute the procedure below for T=30\n",
    " times.\n",
    "\n",
    "In each iteration,\n",
    "\n",
    "- Randomly partition the data into training (25%) and test (75%).\n",
    "- Calculate and log the test error from the ridgeless method using the first d columns of myData, where d ranges from 6 to 241. Keep in mind that the number of regression parameters spans from 5 to 240 because the first column represents Y"
   ]
  },
  {
   "cell_type": "code",
   "execution_count": 114,
   "metadata": {},
   "outputs": [
    {
     "data": {
      "application/vnd.plotly.v1+json": {
       "config": {
        "plotlyServerURL": "https://plot.ly"
       },
       "data": [
        {
         "hovertemplate": "num of features d=%{x}<br>Log of Test Error=%{y}<extra></extra>",
         "legendgroup": "",
         "marker": {
          "color": "#636efa",
          "symbol": "circle"
         },
         "mode": "markers",
         "name": "",
         "orientation": "v",
         "showlegend": false,
         "type": "scatter",
         "x": [
          6,
          7,
          8,
          9,
          10,
          11,
          12,
          13,
          14,
          15,
          16,
          17,
          18,
          19,
          20,
          21,
          22,
          23,
          24,
          25,
          26,
          27,
          28,
          29,
          30,
          31,
          32,
          33,
          34,
          35,
          36,
          37,
          38,
          39,
          40,
          41,
          42,
          43,
          44,
          45,
          46,
          47,
          48,
          49,
          50,
          51,
          52,
          53,
          54,
          55,
          56,
          57,
          58,
          59,
          60,
          61,
          62,
          63,
          64,
          65,
          66,
          67,
          68,
          69,
          70,
          71,
          72,
          73,
          74,
          75,
          76,
          77,
          78,
          79,
          80,
          81,
          82,
          83,
          84,
          85,
          86,
          87,
          88,
          89,
          90,
          91,
          92,
          93,
          94,
          95,
          96,
          97,
          98,
          99,
          100,
          101,
          102,
          103,
          104,
          105,
          106,
          107,
          108,
          109,
          110,
          111,
          112,
          113,
          114,
          115,
          116,
          117,
          118,
          119,
          120,
          121,
          122,
          123,
          124,
          125,
          126,
          127,
          128,
          129,
          130,
          131,
          132,
          133,
          134,
          135,
          136,
          137,
          138,
          139,
          140,
          141,
          142,
          143,
          144,
          145,
          146,
          147,
          148,
          149,
          150,
          151,
          152,
          153,
          154,
          155,
          156,
          157,
          158,
          159,
          160,
          161,
          162,
          163,
          164,
          165,
          166,
          167,
          168,
          169,
          170,
          171,
          172,
          173,
          174,
          175,
          176,
          177,
          178,
          179,
          180,
          181,
          182,
          183,
          184,
          185,
          186,
          187,
          188,
          189,
          190,
          191,
          192,
          193,
          194,
          195,
          196,
          197,
          198,
          199,
          200,
          201,
          202,
          203,
          204,
          205,
          206,
          207,
          208,
          209,
          210,
          211,
          212,
          213,
          214,
          215,
          216,
          217,
          218,
          219,
          220,
          221,
          222,
          223,
          224,
          225,
          226,
          227,
          228,
          229,
          230,
          231,
          232,
          233,
          234,
          235,
          236,
          237,
          238,
          239,
          240
         ],
         "xaxis": "x",
         "y": [
          -1.8570878778446642,
          -1.8241084179284408,
          -1.785163839884113,
          -1.7853087758580481,
          -1.6820603892048793,
          -1.8013535462236603,
          -1.7040406173226872,
          -1.8230682885660625,
          -1.8412897894546716,
          -1.8225643144440287,
          -1.7243765348274953,
          -1.925454697800856,
          -2.042131380721685,
          -2.1064447856212754,
          -2.160798207610473,
          -2.157685731609111,
          -2.0703835832831525,
          -2.090579764429777,
          -2.0126389582693704,
          -2.128716543033343,
          -1.313128298825838,
          -1.9419045449002614,
          -1.7766461654304744,
          -1.7208600667711123,
          -1.804367596476937,
          -2.037704647270691,
          -2.1610915573389593,
          -2.111131350771569,
          -1.8139944030833015,
          -2.095674429524616,
          -1.7482472659587587,
          -1.6455229355279661,
          -2.152386987801399,
          -2.0592259836597897,
          -2.0394288526697713,
          0.038662951373870956,
          -2.181853663525059,
          -2.242489460912409,
          -2.303485164164804,
          -2.312038093274257,
          -0.49626960976674206,
          -2.096966514976465,
          -2.2070025543963276,
          -2.078314662152463,
          -1.1657715089592118,
          -1.051232286146056,
          -0.0853181602732394,
          -1.1546815615030293,
          -1.7920718449476614,
          -1.3293760821922496,
          4.657508901736568,
          3.190260440914507,
          0.06282322101385632,
          -1.6530271779368697,
          -1.3178383445789374,
          0.13364544650564997,
          2.1046907606413554,
          -1.6582214615347923,
          -1.7044185623739443,
          3.5791542561148137,
          -1.9475159566209699,
          0.4484340950162791,
          3.1461810673236053,
          -1.8795817808100617,
          3.3742781475405423,
          1.1159425589392507,
          0.18639481196338442,
          4.896729656190624,
          -0.4156266767058049,
          -1.2424441935657942,
          0.5026661600859624,
          0.23674377826239443,
          -1.7225285634646008,
          -1.5260373463223096,
          -0.5978377331915647,
          4.816053631322633,
          0.7696032387545221,
          -0.029167002143448036,
          -1.471799593714021,
          0.4159313588829032,
          6.015107393551354,
          5.187652933981782,
          7.401332755585822,
          7.601755590912238,
          -0.036183469447656595,
          3.1384705503152155,
          1.0860051686409875,
          1.0150771955762796,
          6.9233447353198105,
          -0.00021728200557299173,
          1.233557691816793,
          4.4977921715786655,
          3.1005473789009956,
          3.3919684217621096,
          6.078273629429564,
          1.426114954640014,
          1.7154748280757977,
          0.39592951854534586,
          3.045627364915033,
          1.9490096894557927,
          6.729873718897087,
          9.056424549023275,
          2.2358366889730394,
          2.2379080704208527,
          2.55200977220092,
          5.758376087764703,
          1.6895569878416883,
          2.74415526106928,
          1.99925566080574,
          5.452516337451147,
          3.8123460023931024,
          4.076543187791555,
          2.0100896575730753,
          4.4449819701172,
          3.870144524791133,
          1.85202020380597,
          4.465731475357416,
          2.5359657365254877,
          2.6481026253426716,
          3.087708184415988,
          1.942790965107323,
          2.5792874934522634,
          4.4850904597579575,
          2.33877570745205,
          4.990625851309284,
          7.301062580817845,
          1.6293553212776604,
          5.606230290342822,
          2.920695528649113,
          4.362443509872097,
          3.8608205696244724,
          5.476491995834607,
          5.519340015086353,
          3.662575125817828,
          3.6354962524769228,
          0.7021032297708427,
          3.193056158469732,
          2.3740408899505456,
          1.9971702359994263,
          2.1855178010012315,
          1.269390124032858,
          0.16347127600524003,
          0.447692397751465,
          0.681925079453394,
          -0.194751014499371,
          -0.5110830508732768,
          0.4312043100784891,
          -0.194055162600726,
          -0.33738809895250726,
          0.03571849125789389,
          -0.7189385583427867,
          0.015549574593101257,
          -0.6469779480076232,
          -1.0563170163491309,
          -0.5381686295228428,
          -0.2728636513829586,
          -0.7748259822744883,
          -1.321614696116975,
          -0.9705725863298303,
          -0.2818517224186445,
          -0.968204686998215,
          -1.4530161722210682,
          -0.7926939702830172,
          -0.9844983268943499,
          -1.2022747893966785,
          -0.7692899945451221,
          -0.7127108839616331,
          -1.4993123284973375,
          -1.4112105930183059,
          -1.476407982450339,
          -1.4343750564022721,
          -1.3743659423790713,
          -1.3080286029959358,
          -1.7719982430550574,
          -1.7125162069518967,
          -1.3126704314180524,
          -1.4754800463880149,
          -1.383241635331483,
          -0.9476804249160209,
          -1.3342047863263091,
          -1.1238442073241457,
          -1.3917880628977792,
          -1.9165693762955287,
          -1.3721140875246283,
          -1.2378852585229407,
          -1.7325147107217551,
          -1.6181045221225312,
          -1.493157014517115,
          -1.262303459330791,
          -1.1692131901296117,
          -2.111118650317129,
          -1.6447671713046956,
          -2.0240968037017772,
          -1.9562961377002366,
          -2.0716262308827624,
          -1.412292632836679,
          -1.6454479530222046,
          -1.3752708775048441,
          -1.9795152225216635,
          -1.753505861502828,
          -1.6818981001649203,
          -1.4141358643637063,
          -2.179681601423553,
          -1.563510388929517,
          -2.0272898879485624,
          -1.658562254548969,
          -1.787707708548125,
          -1.8610964442843803,
          -1.9195317333302444,
          -1.2202924709372414,
          -2.0659155392997794,
          -1.619805118705325,
          -2.069970474690916,
          -2.006733888072251,
          -1.5852849655296546,
          -1.8564813053899458,
          -1.9213075893550284,
          -1.9533680953677326,
          -2.2983776312564013,
          -1.82970857248242,
          -2.054346148466592,
          -2.2405676009387583,
          -2.147249310015065,
          -2.0922784081776458,
          -2.089976287513592,
          -1.897956002458637,
          -2.23028832521738,
          -1.8954528314373844,
          -1.9738166313448078,
          -1.8644322801311786,
          -2.1755665730283864,
          -1.964221058893955,
          -2.1987104967699227,
          -2.0521805518008702,
          -1.8152668583922118
         ],
         "yaxis": "y"
        }
       ],
       "layout": {
        "legend": {
         "tracegroupgap": 0
        },
        "margin": {
         "t": 60
        },
        "template": {
         "data": {
          "bar": [
           {
            "error_x": {
             "color": "#2a3f5f"
            },
            "error_y": {
             "color": "#2a3f5f"
            },
            "marker": {
             "line": {
              "color": "#E5ECF6",
              "width": 0.5
             },
             "pattern": {
              "fillmode": "overlay",
              "size": 10,
              "solidity": 0.2
             }
            },
            "type": "bar"
           }
          ],
          "barpolar": [
           {
            "marker": {
             "line": {
              "color": "#E5ECF6",
              "width": 0.5
             },
             "pattern": {
              "fillmode": "overlay",
              "size": 10,
              "solidity": 0.2
             }
            },
            "type": "barpolar"
           }
          ],
          "carpet": [
           {
            "aaxis": {
             "endlinecolor": "#2a3f5f",
             "gridcolor": "white",
             "linecolor": "white",
             "minorgridcolor": "white",
             "startlinecolor": "#2a3f5f"
            },
            "baxis": {
             "endlinecolor": "#2a3f5f",
             "gridcolor": "white",
             "linecolor": "white",
             "minorgridcolor": "white",
             "startlinecolor": "#2a3f5f"
            },
            "type": "carpet"
           }
          ],
          "choropleth": [
           {
            "colorbar": {
             "outlinewidth": 0,
             "ticks": ""
            },
            "type": "choropleth"
           }
          ],
          "contour": [
           {
            "colorbar": {
             "outlinewidth": 0,
             "ticks": ""
            },
            "colorscale": [
             [
              0,
              "#0d0887"
             ],
             [
              0.1111111111111111,
              "#46039f"
             ],
             [
              0.2222222222222222,
              "#7201a8"
             ],
             [
              0.3333333333333333,
              "#9c179e"
             ],
             [
              0.4444444444444444,
              "#bd3786"
             ],
             [
              0.5555555555555556,
              "#d8576b"
             ],
             [
              0.6666666666666666,
              "#ed7953"
             ],
             [
              0.7777777777777778,
              "#fb9f3a"
             ],
             [
              0.8888888888888888,
              "#fdca26"
             ],
             [
              1,
              "#f0f921"
             ]
            ],
            "type": "contour"
           }
          ],
          "contourcarpet": [
           {
            "colorbar": {
             "outlinewidth": 0,
             "ticks": ""
            },
            "type": "contourcarpet"
           }
          ],
          "heatmap": [
           {
            "colorbar": {
             "outlinewidth": 0,
             "ticks": ""
            },
            "colorscale": [
             [
              0,
              "#0d0887"
             ],
             [
              0.1111111111111111,
              "#46039f"
             ],
             [
              0.2222222222222222,
              "#7201a8"
             ],
             [
              0.3333333333333333,
              "#9c179e"
             ],
             [
              0.4444444444444444,
              "#bd3786"
             ],
             [
              0.5555555555555556,
              "#d8576b"
             ],
             [
              0.6666666666666666,
              "#ed7953"
             ],
             [
              0.7777777777777778,
              "#fb9f3a"
             ],
             [
              0.8888888888888888,
              "#fdca26"
             ],
             [
              1,
              "#f0f921"
             ]
            ],
            "type": "heatmap"
           }
          ],
          "heatmapgl": [
           {
            "colorbar": {
             "outlinewidth": 0,
             "ticks": ""
            },
            "colorscale": [
             [
              0,
              "#0d0887"
             ],
             [
              0.1111111111111111,
              "#46039f"
             ],
             [
              0.2222222222222222,
              "#7201a8"
             ],
             [
              0.3333333333333333,
              "#9c179e"
             ],
             [
              0.4444444444444444,
              "#bd3786"
             ],
             [
              0.5555555555555556,
              "#d8576b"
             ],
             [
              0.6666666666666666,
              "#ed7953"
             ],
             [
              0.7777777777777778,
              "#fb9f3a"
             ],
             [
              0.8888888888888888,
              "#fdca26"
             ],
             [
              1,
              "#f0f921"
             ]
            ],
            "type": "heatmapgl"
           }
          ],
          "histogram": [
           {
            "marker": {
             "pattern": {
              "fillmode": "overlay",
              "size": 10,
              "solidity": 0.2
             }
            },
            "type": "histogram"
           }
          ],
          "histogram2d": [
           {
            "colorbar": {
             "outlinewidth": 0,
             "ticks": ""
            },
            "colorscale": [
             [
              0,
              "#0d0887"
             ],
             [
              0.1111111111111111,
              "#46039f"
             ],
             [
              0.2222222222222222,
              "#7201a8"
             ],
             [
              0.3333333333333333,
              "#9c179e"
             ],
             [
              0.4444444444444444,
              "#bd3786"
             ],
             [
              0.5555555555555556,
              "#d8576b"
             ],
             [
              0.6666666666666666,
              "#ed7953"
             ],
             [
              0.7777777777777778,
              "#fb9f3a"
             ],
             [
              0.8888888888888888,
              "#fdca26"
             ],
             [
              1,
              "#f0f921"
             ]
            ],
            "type": "histogram2d"
           }
          ],
          "histogram2dcontour": [
           {
            "colorbar": {
             "outlinewidth": 0,
             "ticks": ""
            },
            "colorscale": [
             [
              0,
              "#0d0887"
             ],
             [
              0.1111111111111111,
              "#46039f"
             ],
             [
              0.2222222222222222,
              "#7201a8"
             ],
             [
              0.3333333333333333,
              "#9c179e"
             ],
             [
              0.4444444444444444,
              "#bd3786"
             ],
             [
              0.5555555555555556,
              "#d8576b"
             ],
             [
              0.6666666666666666,
              "#ed7953"
             ],
             [
              0.7777777777777778,
              "#fb9f3a"
             ],
             [
              0.8888888888888888,
              "#fdca26"
             ],
             [
              1,
              "#f0f921"
             ]
            ],
            "type": "histogram2dcontour"
           }
          ],
          "mesh3d": [
           {
            "colorbar": {
             "outlinewidth": 0,
             "ticks": ""
            },
            "type": "mesh3d"
           }
          ],
          "parcoords": [
           {
            "line": {
             "colorbar": {
              "outlinewidth": 0,
              "ticks": ""
             }
            },
            "type": "parcoords"
           }
          ],
          "pie": [
           {
            "automargin": true,
            "type": "pie"
           }
          ],
          "scatter": [
           {
            "fillpattern": {
             "fillmode": "overlay",
             "size": 10,
             "solidity": 0.2
            },
            "type": "scatter"
           }
          ],
          "scatter3d": [
           {
            "line": {
             "colorbar": {
              "outlinewidth": 0,
              "ticks": ""
             }
            },
            "marker": {
             "colorbar": {
              "outlinewidth": 0,
              "ticks": ""
             }
            },
            "type": "scatter3d"
           }
          ],
          "scattercarpet": [
           {
            "marker": {
             "colorbar": {
              "outlinewidth": 0,
              "ticks": ""
             }
            },
            "type": "scattercarpet"
           }
          ],
          "scattergeo": [
           {
            "marker": {
             "colorbar": {
              "outlinewidth": 0,
              "ticks": ""
             }
            },
            "type": "scattergeo"
           }
          ],
          "scattergl": [
           {
            "marker": {
             "colorbar": {
              "outlinewidth": 0,
              "ticks": ""
             }
            },
            "type": "scattergl"
           }
          ],
          "scattermapbox": [
           {
            "marker": {
             "colorbar": {
              "outlinewidth": 0,
              "ticks": ""
             }
            },
            "type": "scattermapbox"
           }
          ],
          "scatterpolar": [
           {
            "marker": {
             "colorbar": {
              "outlinewidth": 0,
              "ticks": ""
             }
            },
            "type": "scatterpolar"
           }
          ],
          "scatterpolargl": [
           {
            "marker": {
             "colorbar": {
              "outlinewidth": 0,
              "ticks": ""
             }
            },
            "type": "scatterpolargl"
           }
          ],
          "scatterternary": [
           {
            "marker": {
             "colorbar": {
              "outlinewidth": 0,
              "ticks": ""
             }
            },
            "type": "scatterternary"
           }
          ],
          "surface": [
           {
            "colorbar": {
             "outlinewidth": 0,
             "ticks": ""
            },
            "colorscale": [
             [
              0,
              "#0d0887"
             ],
             [
              0.1111111111111111,
              "#46039f"
             ],
             [
              0.2222222222222222,
              "#7201a8"
             ],
             [
              0.3333333333333333,
              "#9c179e"
             ],
             [
              0.4444444444444444,
              "#bd3786"
             ],
             [
              0.5555555555555556,
              "#d8576b"
             ],
             [
              0.6666666666666666,
              "#ed7953"
             ],
             [
              0.7777777777777778,
              "#fb9f3a"
             ],
             [
              0.8888888888888888,
              "#fdca26"
             ],
             [
              1,
              "#f0f921"
             ]
            ],
            "type": "surface"
           }
          ],
          "table": [
           {
            "cells": {
             "fill": {
              "color": "#EBF0F8"
             },
             "line": {
              "color": "white"
             }
            },
            "header": {
             "fill": {
              "color": "#C8D4E3"
             },
             "line": {
              "color": "white"
             }
            },
            "type": "table"
           }
          ]
         },
         "layout": {
          "annotationdefaults": {
           "arrowcolor": "#2a3f5f",
           "arrowhead": 0,
           "arrowwidth": 1
          },
          "autotypenumbers": "strict",
          "coloraxis": {
           "colorbar": {
            "outlinewidth": 0,
            "ticks": ""
           }
          },
          "colorscale": {
           "diverging": [
            [
             0,
             "#8e0152"
            ],
            [
             0.1,
             "#c51b7d"
            ],
            [
             0.2,
             "#de77ae"
            ],
            [
             0.3,
             "#f1b6da"
            ],
            [
             0.4,
             "#fde0ef"
            ],
            [
             0.5,
             "#f7f7f7"
            ],
            [
             0.6,
             "#e6f5d0"
            ],
            [
             0.7,
             "#b8e186"
            ],
            [
             0.8,
             "#7fbc41"
            ],
            [
             0.9,
             "#4d9221"
            ],
            [
             1,
             "#276419"
            ]
           ],
           "sequential": [
            [
             0,
             "#0d0887"
            ],
            [
             0.1111111111111111,
             "#46039f"
            ],
            [
             0.2222222222222222,
             "#7201a8"
            ],
            [
             0.3333333333333333,
             "#9c179e"
            ],
            [
             0.4444444444444444,
             "#bd3786"
            ],
            [
             0.5555555555555556,
             "#d8576b"
            ],
            [
             0.6666666666666666,
             "#ed7953"
            ],
            [
             0.7777777777777778,
             "#fb9f3a"
            ],
            [
             0.8888888888888888,
             "#fdca26"
            ],
            [
             1,
             "#f0f921"
            ]
           ],
           "sequentialminus": [
            [
             0,
             "#0d0887"
            ],
            [
             0.1111111111111111,
             "#46039f"
            ],
            [
             0.2222222222222222,
             "#7201a8"
            ],
            [
             0.3333333333333333,
             "#9c179e"
            ],
            [
             0.4444444444444444,
             "#bd3786"
            ],
            [
             0.5555555555555556,
             "#d8576b"
            ],
            [
             0.6666666666666666,
             "#ed7953"
            ],
            [
             0.7777777777777778,
             "#fb9f3a"
            ],
            [
             0.8888888888888888,
             "#fdca26"
            ],
            [
             1,
             "#f0f921"
            ]
           ]
          },
          "colorway": [
           "#636efa",
           "#EF553B",
           "#00cc96",
           "#ab63fa",
           "#FFA15A",
           "#19d3f3",
           "#FF6692",
           "#B6E880",
           "#FF97FF",
           "#FECB52"
          ],
          "font": {
           "color": "#2a3f5f"
          },
          "geo": {
           "bgcolor": "white",
           "lakecolor": "white",
           "landcolor": "#E5ECF6",
           "showlakes": true,
           "showland": true,
           "subunitcolor": "white"
          },
          "hoverlabel": {
           "align": "left"
          },
          "hovermode": "closest",
          "mapbox": {
           "style": "light"
          },
          "paper_bgcolor": "white",
          "plot_bgcolor": "#E5ECF6",
          "polar": {
           "angularaxis": {
            "gridcolor": "white",
            "linecolor": "white",
            "ticks": ""
           },
           "bgcolor": "#E5ECF6",
           "radialaxis": {
            "gridcolor": "white",
            "linecolor": "white",
            "ticks": ""
           }
          },
          "scene": {
           "xaxis": {
            "backgroundcolor": "#E5ECF6",
            "gridcolor": "white",
            "gridwidth": 2,
            "linecolor": "white",
            "showbackground": true,
            "ticks": "",
            "zerolinecolor": "white"
           },
           "yaxis": {
            "backgroundcolor": "#E5ECF6",
            "gridcolor": "white",
            "gridwidth": 2,
            "linecolor": "white",
            "showbackground": true,
            "ticks": "",
            "zerolinecolor": "white"
           },
           "zaxis": {
            "backgroundcolor": "#E5ECF6",
            "gridcolor": "white",
            "gridwidth": 2,
            "linecolor": "white",
            "showbackground": true,
            "ticks": "",
            "zerolinecolor": "white"
           }
          },
          "shapedefaults": {
           "line": {
            "color": "#2a3f5f"
           }
          },
          "ternary": {
           "aaxis": {
            "gridcolor": "white",
            "linecolor": "white",
            "ticks": ""
           },
           "baxis": {
            "gridcolor": "white",
            "linecolor": "white",
            "ticks": ""
           },
           "bgcolor": "#E5ECF6",
           "caxis": {
            "gridcolor": "white",
            "linecolor": "white",
            "ticks": ""
           }
          },
          "title": {
           "x": 0.05
          },
          "xaxis": {
           "automargin": true,
           "gridcolor": "white",
           "linecolor": "white",
           "ticks": "",
           "title": {
            "standoff": 15
           },
           "zerolinecolor": "white",
           "zerolinewidth": 2
          },
          "yaxis": {
           "automargin": true,
           "gridcolor": "white",
           "linecolor": "white",
           "ticks": "",
           "title": {
            "standoff": 15
           },
           "zerolinecolor": "white",
           "zerolinewidth": 2
          }
         }
        },
        "xaxis": {
         "anchor": "y",
         "domain": [
          0,
          1
         ],
         "title": {
          "text": "num of features d"
         }
        },
        "yaxis": {
         "anchor": "x",
         "domain": [
          0,
          1
         ],
         "title": {
          "text": "Log of Test Error"
         }
        }
       }
      }
     },
     "metadata": {},
     "output_type": "display_data"
    }
   ],
   "source": [
    "import plotly.express as px\n",
    "\n",
    "T = 30\n",
    "d_range = range(6, 241)\n",
    "error_matrix = np.matrix(np.zeros((T, len(d_range))))\n",
    "\n",
    "for t in range(T):\n",
    "    # store the log_test_error in each iteration and plot it later vs. d\n",
    "    test_error_arr = []\n",
    "    for d in d_range:\n",
    "    # split the data into training and test datasets, take the first d columns of data as the feature matrix\n",
    "        train, test = train_test_split(data.iloc[:, :d], test_size=0.75)\n",
    "        train_error, test_error = ridgeless_regression(train, test)\n",
    "        error_matrix[t - 1, d - 6] = test_error\n",
    "\n",
    "# find the median of each column of error_matrix, then take a log of it\n",
    "log_median_test_error = np.array(np.log(np.median(error_matrix, axis=0))).flatten()\n",
    "\n",
    "# plot the log_test_error vs. d\n",
    "fig = px.scatter(x=d_range, y=log_median_test_error, labels={'x':'num of features d', 'y':'Log of Test Error'})\n",
    "fig.show()"
   ]
  }
 ],
 "metadata": {
  "kernelspec": {
   "display_name": "Python 3",
   "language": "python",
   "name": "python3"
  },
  "language_info": {
   "codemirror_mode": {
    "name": "ipython",
    "version": 3
   },
   "file_extension": ".py",
   "mimetype": "text/x-python",
   "name": "python",
   "nbconvert_exporter": "python",
   "pygments_lexer": "ipython3",
   "version": "3.9.18"
  }
 },
 "nbformat": 4,
 "nbformat_minor": 0
}
