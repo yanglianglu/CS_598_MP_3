{
 "cells": [
  {
   "cell_type": "code",
   "execution_count": 111,
   "metadata": {
    "collapsed": true
   },
   "outputs": [],
   "source": [
    "import pandas as pd\n",
    "import numpy as np\n",
    "from sklearn.decomposition import PCA\n",
    "from sklearn.model_selection import train_test_split\n",
    "import plotly as plt\n",
    "import numpy as np\n",
    "np.random.seed(6615)"
   ]
  },
  {
   "cell_type": "markdown",
   "metadata": {},
   "source": [
    "## Data\n",
    "\n",
    "Based on this dataset, we have formed `coding3_dataH.csv`, which is structured as follows:\n",
    "\n",
    "It contains 506 rows, corresponding to n=506\n",
    "\n",
    "- There are 241 columns in total. The first column represents Y\n",
    "- The subsequent 240 columns relate to the NCS basis functions for each of the 13 X variables. The number of knots are individually determined for each feature."
   ]
  },
  {
   "cell_type": "code",
   "execution_count": 112,
   "metadata": {},
   "outputs": [
    {
     "name": "stdout",
     "output_type": "stream",
     "text": [
      "(505, 241)\n"
     ]
    }
   ],
   "source": [
    "data = pd.read_csv(\"Coding3_dataH.csv\", delimiter=\",\", header=0)\n",
    "print(data.shape)"
   ]
  },
  {
   "cell_type": "markdown",
   "metadata": {},
   "source": [
    "## Task 1: Ridgeless Function"
   ]
  },
  {
   "cell_type": "code",
   "execution_count": 113,
   "metadata": {},
   "outputs": [
    {
     "data": {
      "text/plain": [
       "(8.936072419454163, 0.11976737028598734)"
      ]
     },
     "execution_count": 113,
     "metadata": {},
     "output_type": "execute_result"
    }
   ],
   "source": [
    "# accepts training and test datasets and returns the training and test errors of the ridgeless estimator. \n",
    "# For both datasets, the initial column represents the response vector Y\n",
    "def ridgeless_regression(train, test):\n",
    "    # Extract the response vector from the training and test datasets\n",
    "    y_train = train.iloc[:,0]\n",
    "    y_test = test.iloc[:,0]\n",
    "    \n",
    "    # Extract the feature matrix from the training and test datasets\n",
    "    X_train = train.iloc[:,1:]\n",
    "    X_test = test.iloc[:,1:]\n",
    "    \n",
    "    # center the design matrix\n",
    "    X_train_center = X_train - X_train.mean()\n",
    "\n",
    "    # use PCA to reduce the dimensionality of the feature matrix\n",
    "    pca = PCA(n_components=None)\n",
    "    X_train_pca = pca.fit_transform(X_train_center)\n",
    "\n",
    "    # For computation stability, you need to exclude directions with extremely small eigenvalues (in PCA), eps = 1e-10\n",
    "    keep = np.where(pca.explained_variance_ > 1e-10)[0]\n",
    "    X_train_pca = X_train_pca[:,keep]\n",
    "\n",
    "    # Calculate the beta coefficients and beta0 intercept\n",
    "    beta = np.linalg.inv(X_train_pca.T.dot(X_train_pca)).dot(X_train_pca.T).dot(y_train)\n",
    "    beta0 = y_train.mean()\n",
    "\n",
    "    # calculate y_hat and error for train data\n",
    "    y_hat_train = X_train_pca.dot(beta)\n",
    "    train_error = np.sum((y_train - y_hat_train)**2) / len(y_train)\n",
    "\n",
    "    # PCA transform the test data\n",
    "    X_test_pca = pca.transform(X_test - np.mean(X_train))[:, keep]\n",
    "    \n",
    "    # calculate y_hat and error for test data\n",
    "    y_hat_test = X_test_pca.dot(beta) + beta0\n",
    "    test_error = np.sum((y_test - y_hat_test)**2) / len(y_test)\n",
    "    \n",
    "    return train_error, test_error\n",
    "\n",
    "#split data into train and test\n",
    "train, test = train_test_split(data, test_size=0.75)\n",
    "ridgeless_regression(train, test)"
   ]
  },
  {
   "cell_type": "markdown",
   "metadata": {},
   "source": [
    "## Task 2: Simulation study\n",
    "\n",
    "Execute the procedure below for T=30\n",
    " times.\n",
    "\n",
    "In each iteration,\n",
    "\n",
    "- Randomly partition the data into training (25%) and test (75%).\n",
    "- Calculate and log the test error from the ridgeless method using the first d columns of myData, where d ranges from 6 to 241. Keep in mind that the number of regression parameters spans from 5 to 240 because the first column represents Y"
   ]
  },
  {
   "cell_type": "code",
   "execution_count": 114,
   "metadata": {},
   "outputs": [],
   "source": [
    "import plotly.express as px\n",
    "\n",
    "T = 30\n",
    "d_range = range(6, 241)\n",
    "error_matrix = np.matrix(np.zeros((T, len(d_range))))\n",
    "\n",
    "for t in range(T):\n",
    "    # store the log_test_error in each iteration and plot it later vs. d\n",
    "    test_error_arr = []\n",
    "    for d in d_range:\n",
    "    # split the data into training and test datasets, take the first d columns of data as the feature matrix\n",
    "        train, test = train_test_split(data.iloc[:, :d], test_size=0.75)\n",
    "        train_error, test_error = ridgeless_regression(train, test)\n",
    "        error_matrix[t - 1, d - 6] = test_error\n",
    "\n",
    "# find the median of each column of error_matrix, then take a log of it\n",
    "log_median_test_error = np.array(np.log(np.median(error_matrix, axis=0))).flatten()\n",
    "\n",
    "# plot the log_test_error vs. d\n",
    "fig = px.scatter(x=d_range, y=log_median_test_error, labels={'x':'num of features d', 'y':'Log of Test Error'})\n",
    "fig.show()"
   ]
  }
 ],
 "metadata": {
  "kernelspec": {
   "display_name": "Python 3",
   "language": "python",
   "name": "python3"
  },
  "language_info": {
   "codemirror_mode": {
    "name": "ipython",
    "version": 3
   },
   "file_extension": ".py",
   "mimetype": "text/x-python",
   "name": "python",
   "nbconvert_exporter": "python",
   "pygments_lexer": "ipython3",
   "version": "3.9.18"
  }
 },
 "nbformat": 4,
 "nbformat_minor": 0
}
