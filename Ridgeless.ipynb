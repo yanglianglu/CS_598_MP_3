{
 "cells": [
  {
   "cell_type": "code",
   "execution_count": 50,
   "metadata": {
    "collapsed": true
   },
   "outputs": [],
   "source": [
    "import pandas as pd\n",
    "import numpy as np\n",
    "from sklearn.decomposition import PCA\n",
    "from sklearn.model_selection import train_test_split\n",
    "import plotly as plt"
   ]
  },
  {
   "cell_type": "markdown",
   "metadata": {},
   "source": [
    "## Data\n",
    "\n",
    "Based on this dataset, we have formed `coding3_dataH.csv`, which is structured as follows:\n",
    "\n",
    "It contains 506 rows, corresponding to n=506\n",
    "\n",
    "- There are 241 columns in total. The first column represents Y\n",
    "- The subsequent 240 columns relate to the NCS basis functions for each of the 13 X variables. The number of knots are individually determined for each feature."
   ]
  },
  {
   "cell_type": "code",
   "execution_count": 10,
   "metadata": {},
   "outputs": [
    {
     "name": "stdout",
     "output_type": "stream",
     "text": [
      "(505, 241)\n"
     ]
    }
   ],
   "source": [
    "data = pd.read_csv(\"Coding3_dataH.csv\", delimiter=\",\", header=0)\n",
    "print(data.shape)"
   ]
  },
  {
   "cell_type": "markdown",
   "metadata": {},
   "source": [
    "## Task 1: Ridgeless Function"
   ]
  },
  {
   "cell_type": "code",
   "execution_count": 67,
   "metadata": {},
   "outputs": [
    {
     "data": {
      "text/plain": [
       "(9.174626849523566, 0.10847785320590833)"
      ]
     },
     "execution_count": 67,
     "metadata": {},
     "output_type": "execute_result"
    }
   ],
   "source": [
    "# accepts training and test datasets and returns the training and test errors of the ridgeless estimator. \n",
    "# For both datasets, the initial column represents the response vector Y\n",
    "def ridgeless_regression(train, test):\n",
    "    # Extract the response vector from the training and test datasets\n",
    "    y_train = train.iloc[:,0]\n",
    "    y_test = test.iloc[:,0]\n",
    "    \n",
    "    # Extract the feature matrix from the training and test datasets\n",
    "    X_train = train.iloc[:,1:]\n",
    "    X_test = test.iloc[:,1:]\n",
    "    \n",
    "    # center the design matrix\n",
    "    X_train_center = X_train - X_train.mean()\n",
    "\n",
    "    # use PCA to reduce the dimensionality of the feature matrix\n",
    "    pca = PCA(n_components=None)\n",
    "    X_train_pca = pca.fit_transform(X_train_center)\n",
    "\n",
    "    # For computation stability, you need to exclude directions with extremely small eigenvalues (in PCA), eps = 1e-10\n",
    "    keep = np.where(pca.explained_variance_ > 1e-10)[0]\n",
    "    X_train_pca = X_train_pca[:,keep]\n",
    "\n",
    "    # Calculate the beta coefficients and beta0 intercept\n",
    "    beta = np.linalg.inv(X_train_pca.T.dot(X_train_pca)).dot(X_train_pca.T).dot(y_train)\n",
    "    beta0 = y_train.mean()\n",
    "\n",
    "    # calculate y_hat and error for train data\n",
    "    y_hat_train = X_train_pca.dot(beta)\n",
    "    train_error = np.sum((y_train - y_hat_train)**2) / len(y_train)\n",
    "\n",
    "    # PCA transform the test data\n",
    "    X_test_pca = pca.transform(X_test - np.mean(X_train))[:, keep]\n",
    "    \n",
    "    # calculate y_hat and error for test data\n",
    "    y_hat_test = X_test_pca.dot(beta) + beta0\n",
    "    test_error = np.sum((y_test - y_hat_test)**2) / len(y_test)\n",
    "    \n",
    "    return train_error, test_error\n",
    "\n",
    "#split data into train and test\n",
    "train, test = train_test_split(data, test_size=0.75)\n",
    "ridgeless_regression(train, test)"
   ]
  },
  {
   "cell_type": "markdown",
   "metadata": {},
   "source": [
    "## Task 2: Simulation study\n",
    "\n",
    "Execute the procedure below for T=30\n",
    " times.\n",
    "\n",
    "In each iteration,\n",
    "\n",
    "- Randomly partition the data into training (25%) and test (75%).\n",
    "- Calculate and log the test error from the ridgeless method using the first d columns of myData, where d ranges from 6 to 241. Keep in mind that the number of regression parameters spans from 5 to 240 because the first column represents Y"
   ]
  },
  {
   "cell_type": "code",
   "execution_count": 108,
   "metadata": {},
   "outputs": [
    {
     "data": {
      "application/vnd.plotly.v1+json": {
       "config": {
        "plotlyServerURL": "https://plot.ly"
       },
       "data": [
        {
         "hovertemplate": "num of features d=%{x}<br>Log of Test Error=%{y}<extra></extra>",
         "legendgroup": "",
         "marker": {
          "color": "#636efa",
          "symbol": "circle"
         },
         "mode": "markers",
         "name": "",
         "orientation": "v",
         "showlegend": false,
         "type": "scatter",
         "x": [
          6,
          7,
          8,
          9,
          10,
          11,
          12,
          13,
          14,
          15,
          16,
          17,
          18,
          19,
          20,
          21,
          22,
          23,
          24,
          25,
          26,
          27,
          28,
          29,
          30,
          31,
          32,
          33,
          34,
          35,
          36,
          37,
          38,
          39,
          40,
          41,
          42,
          43,
          44,
          45,
          46,
          47,
          48,
          49,
          50,
          51,
          52,
          53,
          54,
          55,
          56,
          57,
          58,
          59,
          60,
          61,
          62,
          63,
          64,
          65,
          66,
          67,
          68,
          69,
          70,
          71,
          72,
          73,
          74,
          75,
          76,
          77,
          78,
          79,
          80,
          81,
          82,
          83,
          84,
          85,
          86,
          87,
          88,
          89,
          90,
          91,
          92,
          93,
          94,
          95,
          96,
          97,
          98,
          99,
          100,
          101,
          102,
          103,
          104,
          105,
          106,
          107,
          108,
          109,
          110,
          111,
          112,
          113,
          114,
          115,
          116,
          117,
          118,
          119,
          120,
          121,
          122,
          123,
          124,
          125,
          126,
          127,
          128,
          129,
          130,
          131,
          132,
          133,
          134,
          135,
          136,
          137,
          138,
          139,
          140,
          141,
          142,
          143,
          144,
          145,
          146,
          147,
          148,
          149,
          150,
          151,
          152,
          153,
          154,
          155,
          156,
          157,
          158,
          159,
          160,
          161,
          162,
          163,
          164,
          165,
          166,
          167,
          168,
          169,
          170,
          171,
          172,
          173,
          174,
          175,
          176,
          177,
          178,
          179,
          180,
          181,
          182,
          183,
          184,
          185,
          186,
          187,
          188,
          189,
          190,
          191,
          192,
          193,
          194,
          195,
          196,
          197,
          198,
          199,
          200,
          201,
          202,
          203,
          204,
          205,
          206,
          207,
          208,
          209,
          210,
          211,
          212,
          213,
          214,
          215,
          216,
          217,
          218,
          219,
          220,
          221,
          222,
          223,
          224,
          225,
          226,
          227,
          228,
          229,
          230,
          231,
          232,
          233,
          234,
          235,
          236,
          237,
          238,
          239,
          240
         ],
         "xaxis": "x",
         "y": [
          -1.798855395432956,
          -1.8004047977055972,
          -1.8096774604154502,
          -1.8184177588600345,
          -1.8000053924455588,
          -1.825707086067006,
          -1.80528777252653,
          -1.8418815086864766,
          -1.8436676831310743,
          -1.81431249204807,
          -1.9071276670294703,
          -1.9210570954074362,
          -2.0093625736462943,
          -2.082129337572804,
          -2.131322546669921,
          -2.1455364666938315,
          -2.132427747000137,
          -2.0726255705978907,
          -1.9910618469173416,
          -1.9854737539814604,
          -1.8466822050587555,
          -1.9980668731110582,
          -1.9397920841027196,
          -1.8590728379618677,
          -1.991071096516888,
          -1.824546635241614,
          -1.9640731094718837,
          -2.023236879624651,
          -2.0079641027017923,
          -1.9300595165331627,
          -1.8860880833933962,
          -1.5712352220532428,
          -1.7451054391816645,
          -1.7306062737562777,
          -2.204770393269971,
          -2.0324275807723673,
          -2.037394933432423,
          -1.4637129840507104,
          -1.5126481619242302,
          -1.709323090417639,
          -2.075737602258435,
          -1.7536288518979886,
          -2.0682875961590317,
          -1.895928598207293,
          -1.288661006691476,
          -1.4371358799006912,
          -1.9150676830297955,
          -1.2877163550328017,
          -0.6647968442501453,
          -1.376788797085528,
          -1.1227706175030137,
          -0.9797251960524597,
          -0.9572684993613879,
          -0.9322077002789246,
          -1.376679246742586,
          -0.36979773865196647,
          -0.9808913051837038,
          -1.3243099116288346,
          -0.8549586204324815,
          -0.7062403257155352,
          -0.2996435262583514,
          -0.8977048363057684,
          -0.9678069056315912,
          -0.877156534204624,
          -0.9360608501942776,
          -1.1866917451260974,
          -0.6139328152676666,
          -0.7252787613111001,
          -0.4273696738946314,
          -1.4565151675785386,
          -0.9210148746390558,
          -0.9541881256256206,
          -0.6495834876902334,
          -0.7639563620851779,
          -1.2105877814880817,
          -1.4594039886390793,
          -0.2950804674101279,
          0.11367951320641649,
          -0.8635855862523241,
          0.17466318257836277,
          -0.1997673485141435,
          0.22129539952697028,
          0.7217102538643094,
          0.7940073069536298,
          0.543825575621432,
          0.8291145755699032,
          0.7633515186880397,
          2.2832570488311013,
          0.8946449695419769,
          2.0916114091590647,
          0.9967347988212548,
          1.5042584367313119,
          1.1023619751034852,
          1.9894074864321905,
          2.4260666304562886,
          2.151705314558129,
          1.2516015408647583,
          2.966575597869055,
          1.8567638765966474,
          3.5709959642650073,
          3.2666170786554556,
          2.7771418012642504,
          2.633110649535242,
          1.2864048952927416,
          2.703671738465214,
          3.4626628003896625,
          1.946342588876672,
          3.1853708526533238,
          3.4184230659668136,
          2.4766183020695647,
          3.1531349390109527,
          3.101189234609091,
          3.2304263301888074,
          3.3562440011348977,
          3.2155956152558676,
          3.618364590103339,
          3.43072041081666,
          3.1473210109611824,
          4.519052733798178,
          3.262859983254871,
          4.541677620982738,
          3.10866942071393,
          3.976886478596845,
          3.841636844230985,
          5.033107873162317,
          4.012609622318803,
          5.065272234391897,
          5.028042681459824,
          5.094848906204574,
          4.599983386957154,
          4.002719936924084,
          4.236228267356012,
          3.3582299531637703,
          2.9442506392741605,
          2.7420372573585348,
          2.6323190421514244,
          2.1960360522927074,
          1.5463708651477686,
          1.1025427015901632,
          0.9188135775564042,
          0.7419174953361045,
          0.8983450594130856,
          0.8172355912336932,
          0.038298568220257366,
          -0.04037072302824337,
          0.1191566578739713,
          -0.11854316482511891,
          -0.18047736360369077,
          -0.3175158690262241,
          -0.2133066023207666,
          -0.2991375569829491,
          -0.334113471582513,
          -0.6515172582079497,
          -0.6265707682898157,
          -0.6194532683716177,
          -0.5490533914475819,
          -0.7422254889597346,
          -0.6983431687795516,
          -1.0204538811901291,
          -0.7328863184309495,
          -0.6634278775140219,
          -1.190519594450197,
          -1.059144010292195,
          -1.053678423933223,
          -1.1265005797435763,
          -1.3928515800554644,
          -1.3008412678178092,
          -1.346832129046787,
          -1.1765760060270192,
          -1.267115316522781,
          -1.298218983091192,
          -1.279362981446877,
          -1.4117248759916372,
          -1.3987645020890689,
          -1.2733270848851503,
          -1.529659214428218,
          -1.4059872562487834,
          -1.362787998744599,
          -1.4528037263864535,
          -1.5553840320352499,
          -1.3882351816671012,
          -1.4597124093120948,
          -1.626579456321388,
          -1.739538864405872,
          -1.6057164381598603,
          -1.521074490940703,
          -1.551885344240925,
          -1.7655640559458676,
          -1.7431389149155556,
          -1.535786835139853,
          -1.8619479519583932,
          -1.769737360962926,
          -1.7298291495965115,
          -1.727594656703681,
          -1.6393512932144758,
          -1.6763695113044672,
          -1.7033996591078904,
          -1.7124154288866085,
          -1.8622417289913873,
          -1.6541676312930753,
          -1.717034638031131,
          -1.8515798101156844,
          -1.6929638022969613,
          -1.9153227001461117,
          -2.063879496041421,
          -1.8015601922218683,
          -1.9971682067340721,
          -2.0504912357026326,
          -1.8645020721349739,
          -1.9382345378929815,
          -2.054266221151402,
          -2.0323744634249823,
          -1.9818433139955733,
          -2.047271406450168,
          -1.8495757266300583,
          -2.0237684734083983,
          -2.0808899220250403,
          -2.0219788386994617,
          -1.9183404282136796,
          -1.885180002540874,
          -2.0857475552265314,
          -2.0098983663789007,
          -1.9822529956312953,
          -1.9732069924634237,
          -1.9554056001656757,
          -1.9556723860582748,
          -2.138036596578705,
          -2.0966063554687926,
          -1.9317422769931907,
          -2.16590434744557,
          -2.209872303893356,
          -2.1132093356813897,
          -2.2163270657769405,
          -2.110532217715438,
          -2.210931932896215
         ],
         "yaxis": "y"
        }
       ],
       "layout": {
        "legend": {
         "tracegroupgap": 0
        },
        "margin": {
         "t": 60
        },
        "template": {
         "data": {
          "bar": [
           {
            "error_x": {
             "color": "#2a3f5f"
            },
            "error_y": {
             "color": "#2a3f5f"
            },
            "marker": {
             "line": {
              "color": "#E5ECF6",
              "width": 0.5
             },
             "pattern": {
              "fillmode": "overlay",
              "size": 10,
              "solidity": 0.2
             }
            },
            "type": "bar"
           }
          ],
          "barpolar": [
           {
            "marker": {
             "line": {
              "color": "#E5ECF6",
              "width": 0.5
             },
             "pattern": {
              "fillmode": "overlay",
              "size": 10,
              "solidity": 0.2
             }
            },
            "type": "barpolar"
           }
          ],
          "carpet": [
           {
            "aaxis": {
             "endlinecolor": "#2a3f5f",
             "gridcolor": "white",
             "linecolor": "white",
             "minorgridcolor": "white",
             "startlinecolor": "#2a3f5f"
            },
            "baxis": {
             "endlinecolor": "#2a3f5f",
             "gridcolor": "white",
             "linecolor": "white",
             "minorgridcolor": "white",
             "startlinecolor": "#2a3f5f"
            },
            "type": "carpet"
           }
          ],
          "choropleth": [
           {
            "colorbar": {
             "outlinewidth": 0,
             "ticks": ""
            },
            "type": "choropleth"
           }
          ],
          "contour": [
           {
            "colorbar": {
             "outlinewidth": 0,
             "ticks": ""
            },
            "colorscale": [
             [
              0,
              "#0d0887"
             ],
             [
              0.1111111111111111,
              "#46039f"
             ],
             [
              0.2222222222222222,
              "#7201a8"
             ],
             [
              0.3333333333333333,
              "#9c179e"
             ],
             [
              0.4444444444444444,
              "#bd3786"
             ],
             [
              0.5555555555555556,
              "#d8576b"
             ],
             [
              0.6666666666666666,
              "#ed7953"
             ],
             [
              0.7777777777777778,
              "#fb9f3a"
             ],
             [
              0.8888888888888888,
              "#fdca26"
             ],
             [
              1,
              "#f0f921"
             ]
            ],
            "type": "contour"
           }
          ],
          "contourcarpet": [
           {
            "colorbar": {
             "outlinewidth": 0,
             "ticks": ""
            },
            "type": "contourcarpet"
           }
          ],
          "heatmap": [
           {
            "colorbar": {
             "outlinewidth": 0,
             "ticks": ""
            },
            "colorscale": [
             [
              0,
              "#0d0887"
             ],
             [
              0.1111111111111111,
              "#46039f"
             ],
             [
              0.2222222222222222,
              "#7201a8"
             ],
             [
              0.3333333333333333,
              "#9c179e"
             ],
             [
              0.4444444444444444,
              "#bd3786"
             ],
             [
              0.5555555555555556,
              "#d8576b"
             ],
             [
              0.6666666666666666,
              "#ed7953"
             ],
             [
              0.7777777777777778,
              "#fb9f3a"
             ],
             [
              0.8888888888888888,
              "#fdca26"
             ],
             [
              1,
              "#f0f921"
             ]
            ],
            "type": "heatmap"
           }
          ],
          "heatmapgl": [
           {
            "colorbar": {
             "outlinewidth": 0,
             "ticks": ""
            },
            "colorscale": [
             [
              0,
              "#0d0887"
             ],
             [
              0.1111111111111111,
              "#46039f"
             ],
             [
              0.2222222222222222,
              "#7201a8"
             ],
             [
              0.3333333333333333,
              "#9c179e"
             ],
             [
              0.4444444444444444,
              "#bd3786"
             ],
             [
              0.5555555555555556,
              "#d8576b"
             ],
             [
              0.6666666666666666,
              "#ed7953"
             ],
             [
              0.7777777777777778,
              "#fb9f3a"
             ],
             [
              0.8888888888888888,
              "#fdca26"
             ],
             [
              1,
              "#f0f921"
             ]
            ],
            "type": "heatmapgl"
           }
          ],
          "histogram": [
           {
            "marker": {
             "pattern": {
              "fillmode": "overlay",
              "size": 10,
              "solidity": 0.2
             }
            },
            "type": "histogram"
           }
          ],
          "histogram2d": [
           {
            "colorbar": {
             "outlinewidth": 0,
             "ticks": ""
            },
            "colorscale": [
             [
              0,
              "#0d0887"
             ],
             [
              0.1111111111111111,
              "#46039f"
             ],
             [
              0.2222222222222222,
              "#7201a8"
             ],
             [
              0.3333333333333333,
              "#9c179e"
             ],
             [
              0.4444444444444444,
              "#bd3786"
             ],
             [
              0.5555555555555556,
              "#d8576b"
             ],
             [
              0.6666666666666666,
              "#ed7953"
             ],
             [
              0.7777777777777778,
              "#fb9f3a"
             ],
             [
              0.8888888888888888,
              "#fdca26"
             ],
             [
              1,
              "#f0f921"
             ]
            ],
            "type": "histogram2d"
           }
          ],
          "histogram2dcontour": [
           {
            "colorbar": {
             "outlinewidth": 0,
             "ticks": ""
            },
            "colorscale": [
             [
              0,
              "#0d0887"
             ],
             [
              0.1111111111111111,
              "#46039f"
             ],
             [
              0.2222222222222222,
              "#7201a8"
             ],
             [
              0.3333333333333333,
              "#9c179e"
             ],
             [
              0.4444444444444444,
              "#bd3786"
             ],
             [
              0.5555555555555556,
              "#d8576b"
             ],
             [
              0.6666666666666666,
              "#ed7953"
             ],
             [
              0.7777777777777778,
              "#fb9f3a"
             ],
             [
              0.8888888888888888,
              "#fdca26"
             ],
             [
              1,
              "#f0f921"
             ]
            ],
            "type": "histogram2dcontour"
           }
          ],
          "mesh3d": [
           {
            "colorbar": {
             "outlinewidth": 0,
             "ticks": ""
            },
            "type": "mesh3d"
           }
          ],
          "parcoords": [
           {
            "line": {
             "colorbar": {
              "outlinewidth": 0,
              "ticks": ""
             }
            },
            "type": "parcoords"
           }
          ],
          "pie": [
           {
            "automargin": true,
            "type": "pie"
           }
          ],
          "scatter": [
           {
            "fillpattern": {
             "fillmode": "overlay",
             "size": 10,
             "solidity": 0.2
            },
            "type": "scatter"
           }
          ],
          "scatter3d": [
           {
            "line": {
             "colorbar": {
              "outlinewidth": 0,
              "ticks": ""
             }
            },
            "marker": {
             "colorbar": {
              "outlinewidth": 0,
              "ticks": ""
             }
            },
            "type": "scatter3d"
           }
          ],
          "scattercarpet": [
           {
            "marker": {
             "colorbar": {
              "outlinewidth": 0,
              "ticks": ""
             }
            },
            "type": "scattercarpet"
           }
          ],
          "scattergeo": [
           {
            "marker": {
             "colorbar": {
              "outlinewidth": 0,
              "ticks": ""
             }
            },
            "type": "scattergeo"
           }
          ],
          "scattergl": [
           {
            "marker": {
             "colorbar": {
              "outlinewidth": 0,
              "ticks": ""
             }
            },
            "type": "scattergl"
           }
          ],
          "scattermapbox": [
           {
            "marker": {
             "colorbar": {
              "outlinewidth": 0,
              "ticks": ""
             }
            },
            "type": "scattermapbox"
           }
          ],
          "scatterpolar": [
           {
            "marker": {
             "colorbar": {
              "outlinewidth": 0,
              "ticks": ""
             }
            },
            "type": "scatterpolar"
           }
          ],
          "scatterpolargl": [
           {
            "marker": {
             "colorbar": {
              "outlinewidth": 0,
              "ticks": ""
             }
            },
            "type": "scatterpolargl"
           }
          ],
          "scatterternary": [
           {
            "marker": {
             "colorbar": {
              "outlinewidth": 0,
              "ticks": ""
             }
            },
            "type": "scatterternary"
           }
          ],
          "surface": [
           {
            "colorbar": {
             "outlinewidth": 0,
             "ticks": ""
            },
            "colorscale": [
             [
              0,
              "#0d0887"
             ],
             [
              0.1111111111111111,
              "#46039f"
             ],
             [
              0.2222222222222222,
              "#7201a8"
             ],
             [
              0.3333333333333333,
              "#9c179e"
             ],
             [
              0.4444444444444444,
              "#bd3786"
             ],
             [
              0.5555555555555556,
              "#d8576b"
             ],
             [
              0.6666666666666666,
              "#ed7953"
             ],
             [
              0.7777777777777778,
              "#fb9f3a"
             ],
             [
              0.8888888888888888,
              "#fdca26"
             ],
             [
              1,
              "#f0f921"
             ]
            ],
            "type": "surface"
           }
          ],
          "table": [
           {
            "cells": {
             "fill": {
              "color": "#EBF0F8"
             },
             "line": {
              "color": "white"
             }
            },
            "header": {
             "fill": {
              "color": "#C8D4E3"
             },
             "line": {
              "color": "white"
             }
            },
            "type": "table"
           }
          ]
         },
         "layout": {
          "annotationdefaults": {
           "arrowcolor": "#2a3f5f",
           "arrowhead": 0,
           "arrowwidth": 1
          },
          "autotypenumbers": "strict",
          "coloraxis": {
           "colorbar": {
            "outlinewidth": 0,
            "ticks": ""
           }
          },
          "colorscale": {
           "diverging": [
            [
             0,
             "#8e0152"
            ],
            [
             0.1,
             "#c51b7d"
            ],
            [
             0.2,
             "#de77ae"
            ],
            [
             0.3,
             "#f1b6da"
            ],
            [
             0.4,
             "#fde0ef"
            ],
            [
             0.5,
             "#f7f7f7"
            ],
            [
             0.6,
             "#e6f5d0"
            ],
            [
             0.7,
             "#b8e186"
            ],
            [
             0.8,
             "#7fbc41"
            ],
            [
             0.9,
             "#4d9221"
            ],
            [
             1,
             "#276419"
            ]
           ],
           "sequential": [
            [
             0,
             "#0d0887"
            ],
            [
             0.1111111111111111,
             "#46039f"
            ],
            [
             0.2222222222222222,
             "#7201a8"
            ],
            [
             0.3333333333333333,
             "#9c179e"
            ],
            [
             0.4444444444444444,
             "#bd3786"
            ],
            [
             0.5555555555555556,
             "#d8576b"
            ],
            [
             0.6666666666666666,
             "#ed7953"
            ],
            [
             0.7777777777777778,
             "#fb9f3a"
            ],
            [
             0.8888888888888888,
             "#fdca26"
            ],
            [
             1,
             "#f0f921"
            ]
           ],
           "sequentialminus": [
            [
             0,
             "#0d0887"
            ],
            [
             0.1111111111111111,
             "#46039f"
            ],
            [
             0.2222222222222222,
             "#7201a8"
            ],
            [
             0.3333333333333333,
             "#9c179e"
            ],
            [
             0.4444444444444444,
             "#bd3786"
            ],
            [
             0.5555555555555556,
             "#d8576b"
            ],
            [
             0.6666666666666666,
             "#ed7953"
            ],
            [
             0.7777777777777778,
             "#fb9f3a"
            ],
            [
             0.8888888888888888,
             "#fdca26"
            ],
            [
             1,
             "#f0f921"
            ]
           ]
          },
          "colorway": [
           "#636efa",
           "#EF553B",
           "#00cc96",
           "#ab63fa",
           "#FFA15A",
           "#19d3f3",
           "#FF6692",
           "#B6E880",
           "#FF97FF",
           "#FECB52"
          ],
          "font": {
           "color": "#2a3f5f"
          },
          "geo": {
           "bgcolor": "white",
           "lakecolor": "white",
           "landcolor": "#E5ECF6",
           "showlakes": true,
           "showland": true,
           "subunitcolor": "white"
          },
          "hoverlabel": {
           "align": "left"
          },
          "hovermode": "closest",
          "mapbox": {
           "style": "light"
          },
          "paper_bgcolor": "white",
          "plot_bgcolor": "#E5ECF6",
          "polar": {
           "angularaxis": {
            "gridcolor": "white",
            "linecolor": "white",
            "ticks": ""
           },
           "bgcolor": "#E5ECF6",
           "radialaxis": {
            "gridcolor": "white",
            "linecolor": "white",
            "ticks": ""
           }
          },
          "scene": {
           "xaxis": {
            "backgroundcolor": "#E5ECF6",
            "gridcolor": "white",
            "gridwidth": 2,
            "linecolor": "white",
            "showbackground": true,
            "ticks": "",
            "zerolinecolor": "white"
           },
           "yaxis": {
            "backgroundcolor": "#E5ECF6",
            "gridcolor": "white",
            "gridwidth": 2,
            "linecolor": "white",
            "showbackground": true,
            "ticks": "",
            "zerolinecolor": "white"
           },
           "zaxis": {
            "backgroundcolor": "#E5ECF6",
            "gridcolor": "white",
            "gridwidth": 2,
            "linecolor": "white",
            "showbackground": true,
            "ticks": "",
            "zerolinecolor": "white"
           }
          },
          "shapedefaults": {
           "line": {
            "color": "#2a3f5f"
           }
          },
          "ternary": {
           "aaxis": {
            "gridcolor": "white",
            "linecolor": "white",
            "ticks": ""
           },
           "baxis": {
            "gridcolor": "white",
            "linecolor": "white",
            "ticks": ""
           },
           "bgcolor": "#E5ECF6",
           "caxis": {
            "gridcolor": "white",
            "linecolor": "white",
            "ticks": ""
           }
          },
          "title": {
           "x": 0.05
          },
          "xaxis": {
           "automargin": true,
           "gridcolor": "white",
           "linecolor": "white",
           "ticks": "",
           "title": {
            "standoff": 15
           },
           "zerolinecolor": "white",
           "zerolinewidth": 2
          },
          "yaxis": {
           "automargin": true,
           "gridcolor": "white",
           "linecolor": "white",
           "ticks": "",
           "title": {
            "standoff": 15
           },
           "zerolinecolor": "white",
           "zerolinewidth": 2
          }
         }
        },
        "xaxis": {
         "anchor": "y",
         "domain": [
          0,
          1
         ],
         "title": {
          "text": "num of features d"
         }
        },
        "yaxis": {
         "anchor": "x",
         "domain": [
          0,
          1
         ],
         "title": {
          "text": "Log of Test Error"
         }
        }
       }
      }
     },
     "metadata": {},
     "output_type": "display_data"
    }
   ],
   "source": [
    "import plotly.express as px\n",
    "\n",
    "T = 30\n",
    "d_range = range(6, 241)\n",
    "error_matrix = np.matrix(np.zeros((T, len(d_range))))\n",
    "\n",
    "for t in range(T):\n",
    "    # store the log_test_error in each iteration and plot it later vs. d\n",
    "    test_error_arr = []\n",
    "    for d in d_range:\n",
    "    # split the data into training and test datasets, take the first d columns of data as the feature matrix\n",
    "        train, test = train_test_split(data.iloc[:, :d], test_size=0.75)\n",
    "        train_error, test_error = ridgeless_regression(train, test)\n",
    "        error_matrix[t - 1, d - 6] = test_error\n",
    "\n",
    "# find the median of each column of error_matrix, then take a log of it\n",
    "log_median_test_error = np.array(np.log(np.median(error_matrix, axis=0))).flatten()\n",
    "\n",
    "# plot the log_test_error vs. d\n",
    "fig = px.scatter(x=d_range, y=log_median_test_error, labels={'x':'num of features d', 'y':'Log of Test Error'})\n",
    "fig.show()"
   ]
  }
 ],
 "metadata": {
  "kernelspec": {
   "display_name": "Python 3",
   "language": "python",
   "name": "python3"
  },
  "language_info": {
   "codemirror_mode": {
    "name": "ipython",
    "version": 3
   },
   "file_extension": ".py",
   "mimetype": "text/x-python",
   "name": "python",
   "nbconvert_exporter": "python",
   "pygments_lexer": "ipython3",
   "version": "3.9.18"
  }
 },
 "nbformat": 4,
 "nbformat_minor": 0
}
